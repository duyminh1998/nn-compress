{
 "cells": [
  {
   "attachments": {},
   "cell_type": "markdown",
   "metadata": {},
   "source": [
    "#### (01/11/2023) Initial experiments with compressing data using neural networks\n",
    "Trying to train an autoencoder, normalizing the input data, training a network to output an image based on a much smaller input, e.g. an ID."
   ]
  },
  {
   "cell_type": "code",
   "execution_count": 13,
   "metadata": {},
   "outputs": [],
   "source": [
    "import torch\n",
    "import torch.nn as nn \n",
    "import torchvision\n",
    "import torchvision.transforms as transforms\n",
    "from torchvision.utils import make_grid, save_image\n",
    "import matplotlib.pyplot as plt\n",
    "import numpy as np\n",
    "import random as rd\n",
    "import copy"
   ]
  },
  {
   "cell_type": "code",
   "execution_count": 16,
   "metadata": {},
   "outputs": [],
   "source": [
    "batch_size = 100\n",
    "\n",
    "# Import MNIST dataset \n",
    "train_dataset = torchvision.datasets.MNIST(root='../data', \n",
    "                                        train=True, \n",
    "                                    transform=transforms.ToTensor(),  \n",
    "                                        download=True)\n",
    "test_dataset = torchvision.datasets.MNIST(root='../data', \n",
    "                                        train=False, \n",
    "                                        transform=transforms.ToTensor()) \n",
    "\n",
    "# Data loader\n",
    "train_loader = torch.utils.data.DataLoader(dataset=train_dataset, \n",
    "                                        batch_size=batch_size, \n",
    "                                        shuffle=True)\n",
    "test_loader = torch.utils.data.DataLoader(dataset=test_dataset, \n",
    "                                        batch_size=batch_size, \n",
    "                                        shuffle=False) "
   ]
  },
  {
   "cell_type": "code",
   "execution_count": 21,
   "metadata": {},
   "outputs": [],
   "source": [
    "# Fully connected neural network with one hidden layer\n",
    "class NeuralNet(nn.Module):\n",
    "    def __init__(self, input_size, hidden_size, num_classes, activation_fnc):\n",
    "        super(NeuralNet, self).__init__()\n",
    "        self.input_size = input_size\n",
    "        self.l1 = nn.Linear(input_size, hidden_size) \n",
    "        self.activation_fnc = activation_fnc\n",
    "        self.l2 = nn.Linear(hidden_size, num_classes)\n",
    "    \n",
    "    def forward(self, x):\n",
    "         out = self.l1(x)\n",
    "         out = self.activation_fnc(out)\n",
    "         out = self.l2(out)\n",
    "         # no activation and no softmax at the end\n",
    "         return out"
   ]
  },
  {
   "attachments": {},
   "cell_type": "markdown",
   "metadata": {},
   "source": [
    "Training an autoencoder to compress an image"
   ]
  },
  {
   "cell_type": "code",
   "execution_count": 14,
   "metadata": {},
   "outputs": [],
   "source": [
    "examples = iter(test_loader)\n",
    "example_data, example_targets = examples.next()\n",
    "example_targets = copy.deepcopy(example_data)"
   ]
  },
  {
   "cell_type": "code",
   "execution_count": 22,
   "metadata": {},
   "outputs": [],
   "source": [
    "input_size = 784\n",
    "output_size = 784 # 28x28\n",
    "hidden_size = 500\n",
    "activation_fnc = nn.ReLU()\n",
    "num_classes = 10\n",
    "num_epochs = 10\n",
    "learning_rate = 0.001\n",
    "device = 'cpu'\n",
    "model = NeuralNet(input_size, hidden_size, output_size, activation_fnc).to(device)"
   ]
  },
  {
   "cell_type": "code",
   "execution_count": 18,
   "metadata": {},
   "outputs": [],
   "source": [
    "# Loss and optimizer\n",
    "criterion = nn.MSELoss()\n",
    "optimizer = torch.optim.Adam(model.parameters(), lr=learning_rate)"
   ]
  },
  {
   "cell_type": "code",
   "execution_count": 23,
   "metadata": {},
   "outputs": [
    {
     "name": "stdout",
     "output_type": "stream",
     "text": [
      "Epoch [1/10], Step[1/600], Loss: 0.1230\n",
      "Epoch [2/10], Step[1/600], Loss: 0.1253\n",
      "Epoch [3/10], Step[1/600], Loss: 0.1136\n",
      "Epoch [4/10], Step[1/600], Loss: 0.1133\n",
      "Epoch [5/10], Step[1/600], Loss: 0.1192\n",
      "Epoch [6/10], Step[1/600], Loss: 0.1215\n",
      "Epoch [7/10], Step[1/600], Loss: 0.1198\n",
      "Epoch [8/10], Step[1/600], Loss: 0.1198\n",
      "Epoch [9/10], Step[1/600], Loss: 0.1137\n",
      "Epoch [10/10], Step[1/600], Loss: 0.1225\n"
     ]
    }
   ],
   "source": [
    "n_total_steps = len(train_loader)\n",
    "for epoch in range(num_epochs):\n",
    "    for i, (images, labels) in enumerate(train_loader):\n",
    "        if i != 0: # train only the first batch\n",
    "            continue\n",
    "\n",
    "        # origin shape: [100, 1, 28, 28]\n",
    "        # resized: [100, 784]\n",
    "        images = images.reshape(-1, 28*28).to(device)\n",
    "        # origin shape: [100, 1, 28, 28]\n",
    "        # resized: [100, 784]\n",
    "        labels = images.reshape(-1, 28*28).to(device)\n",
    "\n",
    "        # Forward pass\n",
    "        outputs = model(labels)\n",
    "        loss = criterion(outputs, images)\n",
    "\n",
    "        # Backward and optimize\n",
    "        optimizer.zero_grad()\n",
    "        loss.backward()\n",
    "        optimizer.step()\n",
    "        \n",
    "        if (i+1) % 100 == 0 or i == 0:\n",
    "            print (f'Epoch [{epoch+1}/{num_epochs}], Step[{i+1}/{n_total_steps}], Loss: {loss.item():.4f}')"
   ]
  },
  {
   "cell_type": "code",
   "execution_count": 37,
   "metadata": {},
   "outputs": [
    {
     "data": {
      "image/png": "[encoded data removed]",
      "text/plain": [
       "<Figure size 640x480 with 2 Axes>"
      ]
     },
     "metadata": {},
     "output_type": "display_data"
    }
   ],
   "source": [
    "# testing the model\n",
    "example_input = example_data[0]\n",
    "example_input_reshaped = example_input.reshape(-1, 28*28).to(device)\n",
    "with torch.no_grad():\n",
    "    f, axarr = plt.subplots(1, 2)\n",
    "    outputs = model(example_input_reshaped)\n",
    "    axarr[0].imshow(outputs.reshape(28, 28).data.numpy(), cmap='gray', vmin=0, vmax=1)\n",
    "    axarr[1].imshow(example_input.reshape(28, 28).data.numpy(), cmap='gray', vmin=0, vmax=1)    "
   ]
  }
 ],
 "metadata": {
  "kernelspec": {
   "display_name": "venv",
   "language": "python",
   "name": "python3"
  },
  "language_info": {
   "codemirror_mode": {
    "name": "ipython",
    "version": 3
   },
   "file_extension": ".py",
   "mimetype": "text/x-python",
   "name": "python",
   "nbconvert_exporter": "python",
   "pygments_lexer": "ipython3",
   "version": "3.10.4 (tags/v3.10.4:9d38120, Mar 23 2022, 23:13:41) [MSC v.1929 64 bit (AMD64)]"
  },
  "orig_nbformat": 4,
  "vscode": {
   "interpreter": {
    "hash": "eec8ae5251d3579fd0a18d200c2d3293a0f27a921cb4d23e6d2497871b49cec0"
   }
  }
 },
 "nbformat": 4,
 "nbformat_minor": 2
}
